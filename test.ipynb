{
 "metadata": {
  "language_info": {
   "codemirror_mode": {
    "name": "ipython",
    "version": 3
   },
   "file_extension": ".py",
   "mimetype": "text/x-python",
   "name": "python",
   "nbconvert_exporter": "python",
   "pygments_lexer": "ipython3",
   "version": "3.7.3"
  },
  "orig_nbformat": 2,
  "kernelspec": {
   "name": "python373jvsc74a57bd0f0396a0f98e081442f6005f4438dae70905c4dba32e635697d7a979ca5a56ea2",
   "display_name": "Python 3.7.3 64-bit ('base': conda)"
  }
 },
 "nbformat": 4,
 "nbformat_minor": 2,
 "cells": [
  {
   "cell_type": "code",
   "execution_count": 1,
   "metadata": {},
   "outputs": [],
   "source": [
    "import torch\n",
    "from torch.autograd import grad\n",
    "import torch.nn as nn\n",
    "from numpy import genfromtxt\n",
    "import torch.optim as optim"
   ]
  },
  {
   "cell_type": "code",
   "execution_count": 2,
   "metadata": {},
   "outputs": [],
   "source": [
    "tSI_data = genfromtxt('tSI_data.csv', delimiter=',') #in the form of [t, S, I]\n",
    "tao_data = genfromtxt('tao_data.csv', delimiter=',') #in the form of [t, tao_star, T_star, us]"
   ]
  },
  {
   "cell_type": "code",
   "execution_count": 8,
   "metadata": {},
   "outputs": [],
   "source": [
    "class DINN:\n",
    "    def __init__(self, t, S_data, I_data, tao_data, T_star_data, u_data): #, t, S_data, I_data, tao_data, T_star_data, u\n",
    "        self.t = t\n",
    "        self.S = S_data\n",
    "        self.I = I_data\n",
    "        self.taos = tao_data\n",
    "        self.T_stars = T_star_data\n",
    "        self.u_data = u_data\n",
    "\n",
    "        #learnable parameters\n",
    "        self.alpha1=torch.rand(1, requires_grad=True)\n",
    "        self.alpha2=torch.rand(1, requires_grad=True)\n",
    "        self.mu=torch.rand(1, requires_grad=True)\n",
    "        self.beta=torch.rand(1, requires_grad=True)\n",
    "\n",
    "    #nets\n",
    "    class net_x(nn.Module): #, t, u\n",
    "        def __init__(self):\n",
    "            super(DINN.net_x, self).__init__()\n",
    "            self.fc1=nn.Linear(2, 20) #takes t, u\n",
    "            self.fc2=nn.Linear(20, 20)\n",
    "            self.out=nn.Linear(20, 4) #outputs S, I, tao, T*\n",
    "\n",
    "        def forward(self, x):\n",
    "            x=self.fc1(x)\n",
    "            x=self.fc2(x)\n",
    "            x=self.out(x)\n",
    "            return x    \n",
    "    \n",
    "\n",
    "    def net_f(self, t, u):\n",
    "        #print('net_f')\n",
    "        t_u = torch.tensor([t.float(),u.float()], requires_grad = True)\n",
    "\n",
    "        nx = self.net_x()\n",
    "\n",
    "        S, I, tao, T_star = nx(t_u) #input = tensor of size 2  \n",
    "        S_t = grad(S, t_u, retain_graph=True)[0][0] #derivative of S_pred wrt t              \n",
    "        I_t = grad(I, t_u, retain_graph=True)[0][0] #derivative of I_pred wrt t              \n",
    "        \n",
    "        f1 = S_t + self.beta * S * I + u * (t > tao) * self.alpha1\n",
    "        f2 = I_t - self.beta * S * I + self.mu * I + u * (t > tao) * self.alpha2\n",
    "\n",
    "        return f1, f2\n",
    "    \n",
    "        \n",
    "    def train(self, n_epochs):\n",
    "        print('')\n",
    "        print('starting training...')\n",
    "        losses = []\n",
    "        learning_rate = 0.01\n",
    "        momentum = 0.5\n",
    "\n",
    "        nx = self.net_x()\n",
    "        optimizer = optim.SGD(nx.parameters(), lr = learning_rate,momentum = momentum)\n",
    "\n",
    "        for epoch in range(n_epochs):\n",
    "            for time_step in range(len(self.t)):\n",
    "                optimizer.zero_grad()\n",
    "                #print('1')\n",
    "                t_value, u_value = self.t[time_step], self.u_data[time_step]\n",
    "                t_value = torch.tensor(t_value)\n",
    "                u_value = torch.tensor(u_value)\n",
    "                #print('2')\n",
    "                f1, f2 = self.net_f(t_value, u_value)\n",
    "                #print('3')\n",
    "                t_u = torch.tensor([t_value.float(), u_value.float()], requires_grad = True)\n",
    "                S_pred, I_pred, tao_pred, T_star_pred = nx(t_u)\n",
    "                #print('4')\n",
    "                \n",
    "\n",
    "                loss = (torch.mean(torch.square(self.S[time_step]-S_pred))+torch.mean(torch.square(self.I[time_step]-I_pred)) + #S,I \n",
    "                torch.mean(torch.square(f1)) + torch.mean(torch.square(f2)) + #f1, f2\n",
    "                torch.mean(torch.square(self.taos[time_step]-tao_pred)) + torch.mean(torch.square(self.T_stars[time_step]-T_star_pred))) #tao, T_star\n",
    "\n",
    "                loss.backward()\n",
    "                optimizer.step()\n",
    "                losses.append(loss)\n"
   ]
  },
  {
   "cell_type": "code",
   "execution_count": 9,
   "metadata": {},
   "outputs": [
    {
     "output_type": "stream",
     "name": "stdout",
     "text": [
      "\nstarting training...\n"
     ]
    }
   ],
   "source": [
    "dinn = DINN(tSI_data[0], tSI_data[1], tSI_data[2], tao_data[1], tao_data[2], tao_data[3]) #t, S_data, I_data, tao_data, T_star_data, u\n",
    "dinn.train(1)"
   ]
  },
  {
   "cell_type": "code",
   "execution_count": null,
   "metadata": {},
   "outputs": [],
   "source": []
  }
 ]
}