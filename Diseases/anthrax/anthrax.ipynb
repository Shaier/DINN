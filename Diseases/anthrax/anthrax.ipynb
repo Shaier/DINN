{
  "cells": [
    {
      "cell_type": "code",
      "execution_count": 1,
      "metadata": {
        "colab": {
          "base_uri": "https://localhost:8080/"
        },
        "id": "pFhy95XbZqOS",
        "outputId": "cb4c69ba-117e-4fd4-87c4-4eed14777ad8"
      },
      "outputs": [
        {
          "data": {
            "text/plain": [
              "<torch._C.Generator at 0x108b87ee8>"
            ]
          },
          "execution_count": 1,
          "metadata": {},
          "output_type": "execute_result"
        }
      ],
      "source": [
        "import torch\n",
        "from torch.autograd import grad\n",
        "import torch.nn as nn\n",
        "from numpy import genfromtxt\n",
        "import torch.optim as optim\n",
        "import matplotlib.pyplot as plt\n",
        "import torch.nn.functional as F\n",
        "import math\n",
        "\n",
        "anthrax_data = genfromtxt('anthrax.csv', delimiter=',') #in the form of [t, S, I, A, C]\n",
        "\n",
        "torch.manual_seed(1234)"
      ]
    },
    {
      "cell_type": "code",
      "execution_count": 2,
      "metadata": {
        "colab": {
          "base_uri": "https://localhost:8080/"
        },
        "id": "AD6iFgYfZqOa",
        "outputId": "2857b5a5-d5d0-453a-ce01-d2bb2803925a"
      },
      "outputs": [
        {
          "name": "stdout",
          "output_type": "stream",
          "text": [
            "CPU times: user 62 µs, sys: 0 ns, total: 62 µs\n",
            "Wall time: 64.8 µs\n"
          ]
        }
      ],
      "source": [
        "%%time\n",
        "\n",
        "PATH = 'anthrax' \n",
        "\n",
        "class DINN(nn.Module):\n",
        "    def __init__(self, t, S_data, I_data, A_data, C_data):\n",
        "        super(DINN, self).__init__()\n",
        "        self.t = torch.tensor(t, requires_grad=True)\n",
        "        self.t_float = self.t.float()\n",
        "        self.t_batch = torch.reshape(self.t_float, (len(self.t),1)) #reshape for batch \n",
        "        self.S = torch.tensor(S_data)\n",
        "        self.I = torch.tensor(I_data)\n",
        "        self.A = torch.tensor(A_data)\n",
        "        self.C = torch.tensor(C_data)\n",
        "\n",
        "        self.losses = [] #keep the losses\n",
        "        self.save = 2 #which file to save to\n",
        "\n",
        "        #learnable parameters\n",
        "        self.r_tilda = torch.nn.Parameter(torch.rand(1, requires_grad=True)) #torch.tensor(1/300)\n",
        "        self.mu_tilda = torch.nn.Parameter(torch.rand(1, requires_grad=True)) #torch.tensor(1/600)\n",
        "        self.kappa_tilda = torch.nn.Parameter(torch.rand(1, requires_grad=True)) #torch.tensor(1/10)\n",
        "        self.eta_a_tilda = torch.nn.Parameter(torch.rand(1, requires_grad=True)) #torch.tensor(1/2)\n",
        "        self.eta_c_tilda = torch.nn.Parameter(torch.rand(1, requires_grad=True)) #torch.tensor(1/10)\n",
        "        self.eta_i_tilda = torch.nn.Parameter(torch.rand(1, requires_grad=True)) #torch.tensor(1/100)\n",
        "        self.tao_tilda = torch.nn.Parameter(torch.rand(1, requires_grad=True)) #torch.tensor(1/10)\n",
        "        self.gamma_tilda = torch.nn.Parameter(torch.rand(1, requires_grad=True)) #torch.tensor(1/7)\n",
        "        self.delta_tilda = torch.nn.Parameter(torch.rand(1, requires_grad=True)) #torch.tensor(1/64)\n",
        "        self.K_tilda = torch.nn.Parameter(torch.rand(1, requires_grad=True)) #torch.tensor(100)\n",
        "        self.beta_tilda = torch.nn.Parameter(torch.rand(1, requires_grad=True)) #torch.tensor(1/500)\n",
        "        self.sigma_tilda = torch.nn.Parameter(torch.rand(1, requires_grad=True)) #torch.tensor(1/10)\n",
        "\n",
        "        #matrices (x4 for S, I, A, C) for the gradients\n",
        "        self.m1 = torch.zeros((len(self.t), 4)); self.m1[:, 0] = 1\n",
        "        self.m2 = torch.zeros((len(self.t), 4)); self.m2[:, 1] = 1\n",
        "        self.m3 = torch.zeros((len(self.t), 4)); self.m3[:, 2] = 1\n",
        "        self.m4 = torch.zeros((len(self.t), 4)); self.m4[:, 3] = 1\n",
        "\n",
        "        #values for norm\n",
        "        self.S_max = max(self.S)\n",
        "        self.I_max = max(self.I)\n",
        "        self.A_max = max(self.A)\n",
        "        self.C_max = max(self.C)\n",
        "        \n",
        "        self.S_min = min(self.S)\n",
        "        self.I_min = min(self.I)\n",
        "        self.A_min = min(self.A)\n",
        "        self.C_min = min(self.C)\n",
        "\n",
        "        #normalize \n",
        "        self.S_hat = (self.S - self.S_min)/(self.S_max - self.S_min)\n",
        "        self.I_hat = (self.I - self.I_min)/(self.I_max - self.I_min)\n",
        "        self.A_hat = (self.A - self.A_min)/(self.A_max - self.A_min)\n",
        "        self.C_hat = (self.C - self.C_min)/(self.C_max - self.C_min)\n",
        "\n",
        "        #NN\n",
        "        self.net_anthrax = self.Net_anthrax()\n",
        "        self.params = list(self.net_anthrax.parameters())\n",
        "        self.params.extend(list([self.r_tilda, self.mu_tilda, self.kappa_tilda, self.eta_a_tilda, self.eta_c_tilda, self.eta_i_tilda, self.tao_tilda, self.gamma_tilda, self.delta_tilda, self.K_tilda, self.beta_tilda, self.sigma_tilda]))\n",
        "\n",
        "\n",
        "    #force parameters to be in a range\n",
        "\n",
        "    @property\n",
        "    def r(self):\n",
        "        return torch.tanh(self.r_tilda) * 0.0003 + 0.0033\n",
        "\n",
        "    @property\n",
        "    def mu(self):\n",
        "        return torch.tanh(self.mu_tilda) * 0.0002 + 0.0016\n",
        "        \n",
        "    @property\n",
        "    def kappa(self):\n",
        "        return torch.tanh(self.kappa_tilda) * 0.01 + 0.1\n",
        "        \n",
        "    @property\n",
        "    def eta_a(self):\n",
        "        return torch.tanh(self.eta_a_tilda) * 0.01 + 0.5\n",
        "        \n",
        "    @property\n",
        "    def eta_c(self):\n",
        "        return torch.tanh(self.eta_c_tilda) * 0.01 + 0.1\n",
        "        \n",
        "    @property\n",
        "    def eta_i(self):\n",
        "        return torch.tanh(self.eta_i_tilda) * 0.001 + 0.01\n",
        "        \n",
        "    @property\n",
        "    def tao(self):\n",
        "        return torch.tanh(self.tao_tilda) * 0.01 + 0.1\n",
        "        \n",
        "    @property\n",
        "    def gamma(self):\n",
        "        return torch.tanh(self.gamma_tilda) * 0.01 + 0.14\n",
        "        \n",
        "    @property\n",
        "    def delta(self):\n",
        "        return torch.tanh(self.delta_tilda) * 0.002 + 0.05\n",
        "        \n",
        "    @property\n",
        "    def K(self):\n",
        "        return torch.tanh(self.K_tilda) * 2 + 100\n",
        "        \n",
        "    @property\n",
        "    def beta(self):\n",
        "        return torch.tanh(self.beta_tilda) * 0.0002 + 0.002\n",
        "        \n",
        "    @property\n",
        "    def sigma(self):\n",
        "        return torch.tanh(self.sigma_tilda) * 0.01 + 0.1\n",
        "        \n",
        "\n",
        "    #nets\n",
        "    class Net_anthrax(nn.Module): # input = [t]\n",
        "        def __init__(self):\n",
        "            super(DINN.Net_anthrax, self).__init__()\n",
        "            self.fc1=nn.Linear(1, 64) #takes 100 t's\n",
        "            self.fc2=nn.Linear(64, 64)\n",
        "            self.fc3=nn.Linear(64, 64)\n",
        "            self.fc4=nn.Linear(64, 64)\n",
        "            self.fc5=nn.Linear(64, 64)\n",
        "            self.fc6=nn.Linear(64, 64)\n",
        "            self.fc7=nn.Linear(64, 64)\n",
        "            self.fc8=nn.Linear(64, 64)\n",
        "            self.out=nn.Linear(64, 4) #outputs S, I, A, C\n",
        "\n",
        "        def forward(self, t):\n",
        "            anthrax=F.relu(self.fc1(t))\n",
        "            anthrax=F.relu(self.fc2(anthrax))\n",
        "            anthrax=F.relu(self.fc3(anthrax))\n",
        "            anthrax=F.relu(self.fc4(anthrax))\n",
        "            anthrax=F.relu(self.fc5(anthrax))\n",
        "            anthrax=F.relu(self.fc6(anthrax))\n",
        "            anthrax=F.relu(self.fc7(anthrax))\n",
        "            anthrax=F.relu(self.fc8(anthrax))\n",
        "            anthrax=self.out(anthrax)\n",
        "            return anthrax    \n",
        "\n",
        "    def net_f(self, t_batch):       \n",
        "\n",
        "        anthrax_hat = self.net_anthrax(t_batch)\n",
        "\n",
        "        S_hat, I_hat, A_hat, C_hat = anthrax_hat[:,0], anthrax_hat[:,1], anthrax_hat[:,2], anthrax_hat[:,3]\n",
        "\n",
        "        #S_hat\n",
        "        anthrax_hat.backward(self.m1, retain_graph=True)\n",
        "        S_hat_t = self.t.grad.clone()\n",
        "        self.t.grad.zero_()\n",
        "\n",
        "        #I_hat\n",
        "        anthrax_hat.backward(self.m2, retain_graph=True)\n",
        "        I_hat_t = self.t.grad.clone()\n",
        "        self.t.grad.zero_()\n",
        "\n",
        "        #A_hat\n",
        "        anthrax_hat.backward(self.m3, retain_graph=True)\n",
        "        A_hat_t = self.t.grad.clone()\n",
        "        self.t.grad.zero_()\n",
        "\n",
        "        #C_hat\n",
        "        anthrax_hat.backward(self.m4, retain_graph=True)\n",
        "        C_hat_t = self.t.grad.clone()\n",
        "        self.t.grad.zero_()\n",
        "\n",
        "        #unnormalize\n",
        "        S = self.S_min + (self.S_max - self.S_min) * S_hat\n",
        "        I = self.I_min + (self.I_max - self.I_min) * I_hat\n",
        "        A = self.A_min + (self.A_max - self.A_min) * A_hat\n",
        "        C = self.C_min + (self.C_max - self.C_min) * C_hat\n",
        "     \n",
        "        #equations\n",
        "        f1_hat = S_hat_t - (self.r * (S + I) * (1 - (S + I)/self.K) - self.eta_a * A * S - self.eta_c * S * C - self.eta_i * (S * I)/(S + I) - self.mu * S + self.tao * I) / (self.S_max - self.S_min) \n",
        "        f2_hat = I_hat_t - (self.eta_a * A * S + self.eta_c * S * C + (self.eta_i * (S * I)/(S + I) - (self.gamma + self.mu + self.tao)) * I) / (self.I_max - self.I_min) \n",
        "        f3_hat = A_hat_t - (-self.sigma * A + self.beta * C) / (self.A_max - self.A_min) \n",
        "        f4_hat = C_hat_t - ((self.gamma + self.mu) * I - self.delta * (S + I) * C - self.kappa * C) / (self.C_max - self.C_min) \n",
        "\n",
        "        return f1_hat, f2_hat, f3_hat, f4_hat, S_hat, I_hat, A_hat, C_hat\n",
        "    \n",
        "    def load(self):\n",
        "      # Load checkpoint\n",
        "      try:\n",
        "        checkpoint = torch.load(PATH + str(self.save)+'.pt') \n",
        "        print('\\nloading pre-trained model...')\n",
        "        self.load_state_dict(checkpoint['model'])\n",
        "        self.optimizer.load_state_dict(checkpoint['optimizer_state_dict'])\n",
        "        self.scheduler.load_state_dict(checkpoint['scheduler'])\n",
        "        epoch = checkpoint['epoch']\n",
        "        loss = checkpoint['loss']\n",
        "        self.losses = checkpoint['losses']\n",
        "        print('loaded previous loss: ', loss)\n",
        "      except RuntimeError :\n",
        "          print('changed the architecture, ignore')\n",
        "          pass\n",
        "      except FileNotFoundError:\n",
        "          pass\n",
        "\n",
        "    def train(self, n_epochs):\n",
        "      #try loading\n",
        "      self.load()\n",
        "\n",
        "      #train\n",
        "      print('\\nstarting training...\\n')\n",
        "      \n",
        "      for epoch in range(n_epochs):\n",
        "        #lists to hold the output (maintain only the final epoch)\n",
        "        S_pred_list = []\n",
        "        I_pred_list = []\n",
        "        A_pred_list = []\n",
        "        C_pred_list = []\n",
        "\n",
        "        f1_hat, f2_hat, f3_hat, f4_hat, S_hat_pred, I_hat_pred, A_hat_pred, C_hat_pred = self.net_f(self.t_batch)\n",
        "        self.optimizer.zero_grad()\n",
        "\n",
        "        S_pred_list.append(self.S_min + (self.S_max - self.S_min) * S_hat_pred)\n",
        "        I_pred_list.append(self.I_min + (self.I_max - self.I_min) * I_hat_pred)\n",
        "        A_pred_list.append(self.A_min + (self.A_max - self.A_min) * A_hat_pred)\n",
        "        C_pred_list.append(self.C_min + (self.C_max - self.C_min) * C_hat_pred)\n",
        "\n",
        "        loss = (\n",
        "              torch.mean(torch.square(self.S_hat - S_hat_pred)) + torch.mean(torch.square(self.I_hat - I_hat_pred)) + \n",
        "              torch.mean(torch.square(self.A_hat - A_hat_pred)) + torch.mean(torch.square(self.C_hat - C_hat_pred)) +\n",
        "              torch.mean(torch.square(f1_hat)) + torch.mean(torch.square(f2_hat)) +\n",
        "              torch.mean(torch.square(f3_hat)) + torch.mean(torch.square(f4_hat))\n",
        "               )\n",
        "\n",
        "        loss.backward()\n",
        "\n",
        "        self.optimizer.step()\n",
        "        self.scheduler.step() \n",
        "        #self.scheduler.step(loss) \n",
        "\n",
        "        self.losses.append(loss.item())\n",
        "\n",
        "        if epoch % 1000 == 0:          \n",
        "          print('\\nEpoch ', epoch)\n",
        "\n",
        "        #loss + model parameters update\n",
        "        if epoch % 4000 == 9999:\n",
        "          #checkpoint save every 1000 epochs if the loss is lower\n",
        "          print('\\nSaving model... Loss is: ', loss)\n",
        "          torch.save({\n",
        "              'epoch': epoch,\n",
        "              'model': self.state_dict(),\n",
        "              'optimizer_state_dict': self.optimizer.state_dict(),\n",
        "              'scheduler': self.scheduler.state_dict(),\n",
        "              'loss': loss,\n",
        "              'losses': self.losses,\n",
        "              }, PATH + str(self.save)+'.pt')\n",
        "          if self.save % 2 > 0: #its on 3\n",
        "            self.save = 2 #change to 2\n",
        "          else: #its on 2\n",
        "            self.save = 3 #change to 3\n",
        "\n",
        "          print('epoch: ', epoch)\n",
        "          print('#################################')\n",
        "        \n",
        "      #plot\n",
        "      plt.plot(self.losses, color = 'teal')\n",
        "      plt.xlabel('Epochs')\n",
        "      plt.ylabel('Loss')\n",
        "      return S_pred_list, I_pred_list, A_pred_list, C_pred_list"
      ]
    },
    {
      "cell_type": "code",
      "execution_count": 3,
      "metadata": {
        "colab": {
          "base_uri": "https://localhost:8080/"
        },
        "id": "_P1obOwWZqOc",
        "outputId": "855a1c18-12fe-4964-9f8e-601992e3ba61"
      },
      "outputs": [
        {
          "name": "stdout",
          "output_type": "stream",
          "text": [
            "\n",
            "loading pre-trained model...\n",
            "loaded previous loss:  tensor(0.0136, dtype=torch.float64, requires_grad=True)\n",
            "\n",
            "starting training...\n",
            "\n",
            "\n",
            "Epoch  0\n",
            "CPU times: user 10.8 s, sys: 1.98 s, total: 12.8 s\n",
            "Wall time: 12.8 s\n"
          ]
        },
        {
          "data": {
            "image/png": "[encoded data removed]",
            "text/plain": [
              "<Figure size 432x288 with 1 Axes>"
            ]
          },
          "metadata": {
            "needs_background": "light"
          },
          "output_type": "display_data"
        }
      ],
      "source": [
        "%%time\n",
        "\n",
        "#this worked best\n",
        "dinn = DINN(anthrax_data[0], anthrax_data[1], anthrax_data[2], anthrax_data[3], anthrax_data[4])\n",
        "\n",
        "learning_rate = 1e-3\n",
        "optimizer = optim.Adam(dinn.params, lr = learning_rate)\n",
        "dinn.optimizer = optimizer\n",
        "\n",
        "#scheduler = torch.optim.lr_scheduler.ReduceLROnPlateau(dinn.optimizer, factor=0.99, patience = 5000, verbose=True)\n",
        "#scheduler = torch.optim.lr_scheduler.CyclicLR(dinn.optimizer, base_lr=1e-6, max_lr=1e-3, step_size_up=100, mode=\"triangular2\", cycle_momentum=False)\n",
        "scheduler = torch.optim.lr_scheduler.CyclicLR(dinn.optimizer, base_lr=1e-8, max_lr=1e-3, step_size_up=1000, mode=\"exp_range\", gamma=0.95, cycle_momentum=False)\n",
        "\n",
        "dinn.scheduler = scheduler\n",
        "\n",
        "try: \n",
        "  S_pred_list, I_pred_list, A_pred_list, C_pred_list = dinn.train(1) #train\n",
        "except EOFError:\n",
        "  if dinn.save == 2:\n",
        "    dinn.save = 3\n",
        "    S_pred_list, I_pred_list, A_pred_list, C_pred_list = dinn.train(1) #train\n",
        "  elif dinn.save == 3:\n",
        "    dinn.save = 2\n",
        "    S_pred_list, I_pred_list, A_pred_list, C_pred_list = dinn.train(1) #train"
      ]
    },
    {
      "cell_type": "code",
      "execution_count": 4,
      "metadata": {
        "id": "RY71fo4_Ic_N"
      },
      "outputs": [
        {
          "data": {
            "text/plain": [
              "Text(0, 0.5, 'Loss')"
            ]
          },
          "execution_count": 4,
          "metadata": {},
          "output_type": "execute_result"
        },
        {
          "data": {
            "image/png": "[encoded data removed]",
            "text/plain": [
              "<Figure size 432x288 with 1 Axes>"
            ]
          },
          "metadata": {
            "needs_background": "light"
          },
          "output_type": "display_data"
        }
      ],
      "source": [
        "plt.plot(dinn.losses[54000000:], color = 'teal')\n",
        "plt.xlabel('Epochs')\n",
        "plt.ylabel('Loss')"
      ]
    },
    {
      "cell_type": "code",
      "execution_count": 10,
      "metadata": {
        "id": "pJrvoRWQZqOd"
      },
      "outputs": [
        {
          "data": {
            "image/png": "[encoded data removed]",
            "text/plain": [
              "<Figure size 864x864 with 1 Axes>"
            ]
          },
          "metadata": {
            "needs_background": "light"
          },
          "output_type": "display_data"
        }
      ],
      "source": [
        "fig = plt.figure(figsize=(12,12))\n",
        "\n",
        "ax = fig.add_subplot(111, facecolor='#dddddd', axisbelow=True)\n",
        "ax.set_facecolor('xkcd:white')\n",
        "\n",
        "# ax.plot(anthrax_data[0], anthrax_data[1], 'pink', alpha=0.5, lw=2, label='S')\n",
        "# ax.plot(anthrax_data[0], S_pred_list[0].detach().numpy(), 'navy', alpha=0.9, lw=2, label='S Prediction', linestyle='dashed')\n",
        "\n",
        "# ax.plot(anthrax_data[0], anthrax_data[2], 'darkgreen', alpha=0.5, lw=2, label='I')\n",
        "# ax.plot(anthrax_data[0], I_pred_list[0].detach().numpy(), 'gold', alpha=0.9, lw=2, label='I Prediction', linestyle='dashed')\n",
        "\n",
        "# ax.plot(anthrax_data[0], anthrax_data[3], 'blue', alpha=0.5, lw=2, label='A')\n",
        "# ax.plot(anthrax_data[0], A_pred_list[0].detach().numpy(), 'black', alpha=0.9, lw=2, label='A Prediction', linestyle='dashed')\n",
        "\n",
        "ax.plot(anthrax_data[0], anthrax_data[4], 'violet', alpha=0.5, lw=2, label='C')\n",
        "ax.plot(anthrax_data[0], A_pred_list[0].detach().numpy(), 'dodgerblue', alpha=0.9, lw=2, label='C Prediction', linestyle='dashed')\n",
        "\n",
        "\n",
        "ax.set_xlabel('Time /days',size = 20)\n",
        "ax.set_ylabel('Number',size = 20)\n",
        "#ax.set_ylim([-1,50])\n",
        "ax.yaxis.set_tick_params(length=0)\n",
        "ax.xaxis.set_tick_params(length=0)\n",
        "plt.xticks(size = 20)\n",
        "plt.yticks(size = 20)\n",
        "ax.grid(b=True, which='major', c='black', lw=0.2, ls='-')\n",
        "legend = ax.legend(prop={'size':20})\n",
        "legend.get_frame().set_alpha(0.5)\n",
        "for spine in ('top', 'right', 'bottom', 'left'):\n",
        "    ax.spines[spine].set_visible(False)\n",
        "plt.show()"
      ]
    },
    {
      "cell_type": "code",
      "execution_count": 6,
      "metadata": {
        "id": "iUzZI6VMZqOe"
      },
      "outputs": [
        {
          "name": "stdout",
          "output_type": "stream",
          "text": [
            "tensor([0.0034], grad_fn=<AddBackward0>)\n",
            "tensor([0.0017], grad_fn=<AddBackward0>)\n",
            "tensor([0.1025], grad_fn=<AddBackward0>)\n",
            "tensor([0.5035], grad_fn=<AddBackward0>)\n",
            "tensor([0.1024], grad_fn=<AddBackward0>)\n",
            "tensor([0.0106], grad_fn=<AddBackward0>)\n",
            "tensor([0.0976], grad_fn=<AddBackward0>)\n",
            "tensor([0.1444], grad_fn=<AddBackward0>)\n",
            "tensor([0.0512], grad_fn=<AddBackward0>)\n",
            "tensor([100.6391], grad_fn=<AddBackward0>)\n",
            "tensor([0.0021], grad_fn=<AddBackward0>)\n",
            "tensor([0.1051], grad_fn=<AddBackward0>)\n"
          ]
        },
        {
          "data": {
            "image/png": "[encoded data removed]",
            "text/plain": [
              "<Figure size 864x864 with 1 Axes>"
            ]
          },
          "metadata": {
            "needs_background": "light"
          },
          "output_type": "display_data"
        }
      ],
      "source": [
        "#vaccination! \n",
        "\n",
        "import numpy as np\n",
        "from scipy.integrate import odeint\n",
        "import matplotlib.pyplot as plt\n",
        "\n",
        "# Initial conditions\n",
        "\n",
        "S0 = 20\n",
        "I0 = 3\n",
        "A0 = 0\n",
        "C0 = 0\n",
        "\n",
        "# A grid of time points (in days)\n",
        "t = np.linspace(0, 4000, 100) \n",
        "\n",
        "#parameters\n",
        "r = dinn.r\n",
        "mu = dinn.mu\n",
        "kappa = dinn.kappa\n",
        "eta_a = dinn.eta_a\n",
        "eta_c = dinn.eta_c\n",
        "eta_i = dinn.eta_i\n",
        "tao = dinn.tao\n",
        "gamma = dinn.gamma\n",
        "delta = dinn.delta\n",
        "K = dinn.K\n",
        "beta = dinn.beta\n",
        "sigma = dinn.sigma\n",
        "\n",
        "\n",
        "print(dinn.r)\n",
        "print(dinn.mu)\n",
        "print(dinn.kappa)\n",
        "print(dinn.eta_a)\n",
        "print(dinn.eta_c)\n",
        "print(dinn.eta_i)\n",
        "print(dinn.tao)\n",
        "print(dinn.gamma)\n",
        "print(dinn.delta)\n",
        "print(dinn.K)\n",
        "print(dinn.beta)\n",
        "print(dinn.sigma)\n",
        "\n",
        "# The SIR model differential equations.\n",
        "def deriv(y, t, r ,mu ,kappa ,eta_a ,eta_c ,eta_i ,tao ,gamma ,delta ,K ,beta ,sigma ):\n",
        "    S, I, A, C = y\n",
        "\n",
        "    dSdt = r * (S + I) * (1 - (S + I)/K) - eta_a * A * S - eta_c * S * C - eta_i * (S * I)/(S + I) - mu * S + tao * I\n",
        "    dIdt = eta_a * A * S + eta_c * S * C + (eta_i * (S * I)/(S + I) - (gamma + mu + tao)) * I\n",
        "    dAdt = -sigma * A + beta * C\n",
        "    dCdt = (gamma + mu) * I - delta * (S + I) * C - kappa * C\n",
        "    \n",
        "    return dSdt, dIdt, dAdt, dCdt\n",
        "\n",
        "\n",
        "# Initial conditions vector\n",
        "y0 = S0, I0, A0, C0\n",
        "# Integrate the SIR equations over the time grid, t.\n",
        "ret = odeint(deriv, y0, t, args=(r ,mu ,kappa ,eta_a ,eta_c ,eta_i ,tao ,gamma ,delta ,K ,beta ,sigma ))\n",
        "S, I, A, C = ret.T\n",
        "\n",
        "# Plot the data on two separate curves for S(t), I(t)\n",
        "fig = plt.figure(figsize=(12,12))\n",
        "\n",
        "ax = fig.add_subplot(111, facecolor='#dddddd', axisbelow=True)\n",
        "ax.set_facecolor('xkcd:white')\n",
        "\n",
        "# ax.plot(t, S, 'violet', alpha=0.5, lw=2, label='Sh_pred', linestyle='dashed')\n",
        "# ax.plot(anthrax_data[0], anthrax_data[1], 'black', alpha=0.5, lw=2, label='S')\n",
        "\n",
        "# ax.plot(t, I, 'blue', alpha=0.5, lw=2, label='I_pred', linestyle='dashed')\n",
        "# ax.plot(anthrax_data[0], anthrax_data[2], 'darkgreen', alpha=0.5, lw=2, label='I')\n",
        "\n",
        "# ax.plot(t, A, 'orange', alpha=0.5, lw=2, label='A_pred', linestyle='dashed')\n",
        "# ax.plot(anthrax_data[0], anthrax_data[3], 'purple', alpha=0.5, lw=2, label='A')\n",
        "\n",
        "ax.plot(t, C, 'red', alpha=0.5, lw=2, label='C_pred', linestyle='dashed')\n",
        "ax.plot(anthrax_data[0], anthrax_data[4], 'grey', alpha=0.5, lw=2, label='C')\n",
        "\n",
        "ax.set_xlabel('Time /days')\n",
        "ax.set_ylabel('Number')\n",
        "ax.yaxis.set_tick_params(length=0)\n",
        "ax.xaxis.set_tick_params(length=0)\n",
        "ax.grid(b=True, which='major', c='black', lw=0.2, ls='-')\n",
        "legend = ax.legend()\n",
        "legend.get_frame().set_alpha(0.5)\n",
        "for spine in ('top', 'right', 'bottom', 'left'):\n",
        "    ax.spines[spine].set_visible(False)\n",
        "plt.show()"
      ]
    },
    {
      "cell_type": "code",
      "execution_count": 7,
      "metadata": {
        "id": "ICWNogFjn27j"
      },
      "outputs": [
        {
          "name": "stdout",
          "output_type": "stream",
          "text": [
            "S_total_loss 0.07506985936072844\n",
            "I_total_loss 0.1497794487035512\n",
            "A_total_loss 0.20863798372866893\n",
            "C_total_loss 0.20665393718824052\n"
          ]
        }
      ],
      "source": [
        "S_total_loss = 0\n",
        "S_den = 0\n",
        "I_total_loss = 0\n",
        "I_den = 0\n",
        "A_total_loss = 0\n",
        "A_den = 0\n",
        "C_total_loss = 0\n",
        "C_den = 0\n",
        "\n",
        "for timestep in range(len(t)):\n",
        "    S_value = anthrax_data[1][timestep] - S[timestep]\n",
        "    S_total_loss += S_value**2\n",
        "    S_den += (anthrax_data[1][timestep])**2\n",
        "\n",
        "    I_value = anthrax_data[2][timestep] - I[timestep]\n",
        "    I_total_loss += I_value**2\n",
        "    I_den += (anthrax_data[2][timestep])**2\n",
        "    \n",
        "    A_value = anthrax_data[3][timestep] - A[timestep]\n",
        "    A_total_loss += A_value**2\n",
        "    A_den += (anthrax_data[3][timestep])**2\n",
        "    \n",
        "    C_value = anthrax_data[4][timestep] - C[timestep]\n",
        "    C_total_loss += C_value**2\n",
        "    C_den += (anthrax_data[4][timestep])**2\n",
        "    \n",
        "\n",
        "S_total_loss = math.sqrt(S_total_loss/S_den)\n",
        "I_total_loss = math.sqrt(I_total_loss/I_den)\n",
        "A_total_loss = math.sqrt(A_total_loss/A_den)\n",
        "C_total_loss = math.sqrt(C_total_loss/C_den)\n",
        "\n",
        "print('S_total_loss', S_total_loss)\n",
        "print('I_total_loss', I_total_loss)\n",
        "print('A_total_loss', A_total_loss)\n",
        "print('C_total_loss', C_total_loss)"
      ]
    },
    {
      "cell_type": "code",
      "execution_count": null,
      "metadata": {
        "id": "XfH8jZ8u93OF"
      },
      "outputs": [],
      "source": []
    }
  ],
  "metadata": {
    "colab": {
      "collapsed_sections": [],
      "name": "anthrax.ipynb",
      "provenance": []
    },
    "interpreter": {
      "hash": "f0396a0f98e081442f6005f4438dae70905c4dba32e635697d7a979ca5a56ea2"
    },
    "kernelspec": {
      "display_name": "Python 3.7.3 64-bit ('base': conda)",
      "name": "python3"
    },
    "language_info": {
      "codemirror_mode": {
        "name": "ipython",
        "version": 3
      },
      "file_extension": ".py",
      "mimetype": "text/x-python",
      "name": "python",
      "nbconvert_exporter": "python",
      "pygments_lexer": "ipython3",
      "version": "3.6.13"
    }
  },
  "nbformat": 4,
  "nbformat_minor": 0
}